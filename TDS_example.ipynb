{
  "nbformat": 4,
  "nbformat_minor": 0,
  "metadata": {
    "colab": {
      "provenance": []
    },
    "kernelspec": {
      "name": "python3",
      "display_name": "Python 3"
    },
    "language_info": {
      "name": "python"
    }
  },
  "cells": [
    {
      "cell_type": "markdown",
      "source": [
        "# Fairness and proxy variables: Identifying and Mitigating Information Leakage for Fair Data Science\n",
        "by Gilad Aharoni and Yonatan Lahat"
      ],
      "metadata": {
        "id": "xakgSP-RvmPP"
      }
    },
    {
      "cell_type": "markdown",
      "source": [
        "In this project, we explore fairness considerations in machine learning models. Our goal is to assess and mitigate bias related to sensitive attributes (such as gender or race) while maintaining model effectiveness."
      ],
      "metadata": {
        "id": "m_61QSUovqCx"
      }
    },
    {
      "cell_type": "markdown",
      "source": [
        "In this notebook, we will use the [Students Performance dataset](https://https://archive.ics.uci.edu/dataset/320/student+performance) to investigate fairness and potential bias related to students' final grades based on their gender. This data approach student achievement in secondary education of two Portuguese schools. The data attributes include student grades, demographic, social and school related features) and it was collected by using school reports and questionnaires. Two datasets are provided regarding the performance in two distinct subjects: Mathematics (mat) and Portuguese language (por)."
      ],
      "metadata": {
        "id": "yXdmQm7gxec4"
      }
    },
    {
      "cell_type": "markdown",
      "source": [
        "## installation and settings"
      ],
      "metadata": {
        "id": "h6AvTAU8xU4e"
      }
    },
    {
      "cell_type": "code",
      "source": [
        "! pip install ucimlrepo"
      ],
      "metadata": {
        "colab": {
          "base_uri": "https://localhost:8080/"
        },
        "id": "E88sVeZhv1Qn",
        "outputId": "8fb45cd1-ba8e-4f2a-a8aa-8e4248a7dfdf"
      },
      "execution_count": 64,
      "outputs": [
        {
          "output_type": "stream",
          "name": "stdout",
          "text": [
            "Requirement already satisfied: ucimlrepo in /usr/local/lib/python3.10/dist-packages (0.0.6)\n"
          ]
        }
      ]
    },
    {
      "cell_type": "code",
      "execution_count": 65,
      "metadata": {
        "id": "q-YooJMXvkc3"
      },
      "outputs": [],
      "source": [
        "import itertools\n",
        "import numpy as np\n",
        "import pandas as pd\n",
        "from sklearn.feature_selection import SequentialFeatureSelector\n",
        "from ucimlrepo import fetch_ucirepo\n",
        "from hyperopt import hp, fmin, tpe, Trials, space_eval\n",
        "import lightgbm as lgb\n",
        "import sklearn as sk\n",
        "from sklearn import metrics\n",
        "import matplotlib.pyplot as plt"
      ]
    },
    {
      "cell_type": "markdown",
      "source": [
        "## Data preprocessing"
      ],
      "metadata": {
        "id": "kgHyl0__0RPD"
      }
    },
    {
      "cell_type": "markdown",
      "source": [
        "As an integral part of our data pipeline, we have created a `DataSet` class. This class encapsulates the original column names, identifies the protected and target features, and encompasses the preprocessed data. By organizing the data within this class, we ensure consistency and facilitate subsequent analysis.\n",
        "\n",
        "\n"
      ],
      "metadata": {
        "id": "hBX_8TioyvlX"
      }
    },
    {
      "cell_type": "code",
      "source": [
        "class DataSet:\n",
        "    def __init__(self):\n",
        "        self.columns = []\n",
        "        self.target = 0\n",
        "        self.protected = 0\n",
        "        self.data = pd.DataFrame()"
      ],
      "metadata": {
        "id": "cg8lFHacvvLh"
      },
      "execution_count": 66,
      "outputs": []
    },
    {
      "cell_type": "markdown",
      "source": [
        "This two methods are used to preprocess the data, `preprocess_data` uses one hot encoding to process categorical features and `binarization` convert contious feature to binaric one by splitting in the median."
      ],
      "metadata": {
        "id": "StndFvHFzfM5"
      }
    },
    {
      "cell_type": "code",
      "source": [
        "def preprocess_data(data):\n",
        "    for column in data.columns:\n",
        "        # binary encoding\n",
        "        if len(data[column].unique()) == 2:\n",
        "            data[column] = data[column].map(lambda x: x == data[column].unique()[0]).astype(int)\n",
        "        # one hot encoding for categorical variables\n",
        "        elif data[column].dtype == 'object':\n",
        "            one_hot_encoded = pd.get_dummies(data[column], prefix=column)\n",
        "            data = pd.concat([data.drop(column, axis=1), one_hot_encoded], axis=1)\n",
        "    return data"
      ],
      "metadata": {
        "id": "x89TK-niwCHW"
      },
      "execution_count": 67,
      "outputs": []
    },
    {
      "cell_type": "code",
      "source": [
        "def binarization(column):\n",
        "    return column.map(lambda x: x > column.median()).astype(int)"
      ],
      "metadata": {
        "id": "fS4kzHI1wF4a"
      },
      "execution_count": 68,
      "outputs": []
    },
    {
      "cell_type": "markdown",
      "source": [
        "The `StudentsDS` class extends the `DataSet` class for preprocessing the students performance dataset. The protected feature is `sex` where the privieged attribute is `F` (female). The target feature is the final grade, converted to a binaric feature."
      ],
      "metadata": {
        "id": "X97v3lpo0Xis"
      }
    },
    {
      "cell_type": "code",
      "source": [
        "class StudentsDS(DataSet):\n",
        "    def __init__(self):\n",
        "        super().__init__()\n",
        "        student_performance = fetch_ucirepo(id=320)\n",
        "        self.data = student_performance.data.features\n",
        "        self.protected = self.data['sex'].map(lambda x: x != 'F').astype(int)\n",
        "        self.data = self.data.drop(labels=['sex'], axis=1)\n",
        "        self.target = binarization(student_performance.data.targets['G3'])\n",
        "        self.columns = self.data.columns\n",
        "        self.data = preprocess_data(self.data)"
      ],
      "metadata": {
        "id": "1clD7Ch5wT1R"
      },
      "execution_count": 69,
      "outputs": []
    },
    {
      "cell_type": "code",
      "source": [
        "dataset = StudentsDS()"
      ],
      "metadata": {
        "id": "a5vuYHZeOhJI"
      },
      "execution_count": 70,
      "outputs": []
    },
    {
      "cell_type": "markdown",
      "source": [
        "## Model and Prediction Settings"
      ],
      "metadata": {
        "id": "u4IcPFaN1P4l"
      }
    },
    {
      "cell_type": "markdown",
      "source": [
        "Every prediction in our project has the same process:\n",
        "- Data Preparation:\n",
        "1. Define data points X (features) and a binary target feature y (e.g., pass/fail, yes/no).\n",
        "2. Split the dataset into training and test sets.\n",
        "- Model Training:\n",
        "3.  Utilize the training set to train a LightGBM model—a gradient boosting-based algorithm.\n",
        "4.  LightGBM is known for its efficiency and accuracy in handling large datasets.\n",
        "- Hyperparameter Tuning:\n",
        "5. Fine-tune the model's hyperparameters using the hyperopt module.\n",
        "6. Employ k-fold cross-validation on the training split to assess parameter reliability.\n",
        "- Model Evaluation:\n",
        "7. Evaluate the trained model's performance using the AUROC (Area Under the Receiver Operating Characteristic) score.\n",
        "8. AUROC measures the model's ability to distinguish between positive and negative instances.\n"
      ],
      "metadata": {
        "id": "quDgdu-f1blv"
      }
    },
    {
      "cell_type": "markdown",
      "source": [
        "### hyperparameter tunning"
      ],
      "metadata": {
        "id": "U16nog8u4UhB"
      }
    },
    {
      "cell_type": "code",
      "source": [
        "def check_parameters(params):\n",
        "    params['num_leaves'] = max(int(params['num_leaves']), 2)\n",
        "    params['max_depth'] = max(int(params['max_depth']), 2)\n",
        "    params['n_estimators'] = max(int(params['n_estimators']), 1)\n",
        "    return params"
      ],
      "metadata": {
        "id": "JFyG8uPxwdaX"
      },
      "execution_count": 71,
      "outputs": []
    },
    {
      "cell_type": "code",
      "source": [
        "param_space = {\n",
        "        'num_leaves': hp.randint('num_leaves', 130) + 20,\n",
        "        'max_depth': hp.quniform('max_depth', 2, 10, 1),\n",
        "        'learning_rate': hp.loguniform('learning_rate', np.log(0.01), np.log(0.5)),\n",
        "        'n_estimators': hp.quniform('n_estimators', 10, 100, 1),\n",
        "        'subsample': hp.uniform('subsample', 0.5, 1),\n",
        "        'colsample_bytree': hp.uniform('colsample_bytree', 0.5, 1),\n",
        "}"
      ],
      "metadata": {
        "id": "i0QZUokqwygL"
      },
      "execution_count": 72,
      "outputs": []
    },
    {
      "cell_type": "markdown",
      "source": [
        "The main `prediction` function. It also used to describe the relation between a group of features to a single feature, describing it as a binaric classification problem."
      ],
      "metadata": {
        "id": "GFYNrBlU4aai"
      }
    },
    {
      "cell_type": "code",
      "source": [
        "def prediction(X, y):\n",
        "    X_train, X_test, y_train, y_test = sk.model_selection.train_test_split(X, y, test_size=0.3)\n",
        "\n",
        "    def objective(params):\n",
        "        params = check_parameters(params)\n",
        "        model = lgb.LGBMClassifier(**params, verbose=-1)\n",
        "        kf = sk.model_selection.KFold(n_splits=5, shuffle=True, random_state=42)\n",
        "        auroc_scores = []\n",
        "        for train_index, val_index in kf.split(X_train):\n",
        "            X_train_fold, X_val_fold = X_train.iloc[train_index], X_train.iloc[val_index]\n",
        "            y_train_fold, y_val_fold = y_train.iloc[train_index], y_train.iloc[val_index]\n",
        "            model.fit(X_train_fold, y_train_fold)\n",
        "            y_pred = model.predict_proba(X_val_fold)\n",
        "            for i in range(len(model.classes_)):\n",
        "                class_label = model.classes_[i]\n",
        "                y_pred_proba_class = y_pred[:, i]\n",
        "                auroc_score = sk.metrics.roc_auc_score((y_val_fold == class_label).astype(int), y_pred_proba_class)\n",
        "                auroc_scores.append(auroc_score)\n",
        "        return -np.mean(auroc_scores)\n",
        "\n",
        "    trials = Trials()\n",
        "    best_params = fmin(fn=objective, space=param_space, algo=tpe.suggest, max_evals=20, trials=trials)\n",
        "    best_params = check_parameters(best_params)\n",
        "    best_model = lgb.LGBMClassifier(**best_params, verbose=-1)\n",
        "    best_model.fit(X_train, y_train)\n",
        "\n",
        "    predicts = best_model.predict_proba(X_test)\n",
        "    auroc_scores = []\n",
        "    for i in range(len(best_model.classes_)):\n",
        "        class_label = best_model.classes_[i]\n",
        "        y_pred_proba_class = predicts[:, i]\n",
        "        auroc_score = sk.metrics.roc_auc_score((y_test == class_label).astype(int), y_pred_proba_class)\n",
        "        auroc_scores.append(auroc_score)\n",
        "    return best_model, np.mean(auroc_scores)"
      ],
      "metadata": {
        "id": "bwZcvsftwi1L"
      },
      "execution_count": 73,
      "outputs": []
    },
    {
      "cell_type": "code",
      "source": [
        "def plot_roc_curve(X ,y, model):\n",
        "    y_pred_proba = model.predict_proba(X)[:, 1]\n",
        "    fpr, tpr, _ = metrics.roc_curve(y, y_pred_proba)\n",
        "\n",
        "    plt.figure(figsize=(4, 3))\n",
        "    plt.plot(fpr, tpr, color='b', label='ROC Curve')\n",
        "    plt.plot([0, 1], [0, 1], color='gray', linestyle='--')\n",
        "    plt.xlabel('False Positive Rate')\n",
        "    plt.ylabel('True Positive Rate')\n",
        "    plt.title('Receiver Operating Characteristic (ROC) Curve')\n",
        "    plt.legend()\n",
        "    plt.show()"
      ],
      "metadata": {
        "id": "N0r7eCHhtrT8"
      },
      "execution_count": 74,
      "outputs": []
    },
    {
      "cell_type": "code",
      "source": [
        "model, score = prediction(dataset.data, dataset.target)\n",
        "plot_roc_curve(dataset.data, dataset.target, model)\n",
        "print(f\"The initial AUROC score:{score}\")"
      ],
      "metadata": {
        "colab": {
          "base_uri": "https://localhost:8080/",
          "height": 368
        },
        "id": "FIyH80EBOrg6",
        "outputId": "d0390818-f7c4-4f71-83b1-9fdcb8ad25c2"
      },
      "execution_count": 75,
      "outputs": [
        {
          "output_type": "stream",
          "name": "stdout",
          "text": [
            "100%|██████████| 20/20 [00:03<00:00,  6.50trial/s, best loss: -0.8087521440789096]\n"
          ]
        },
        {
          "output_type": "display_data",
          "data": {
            "text/plain": [
              "<Figure size 400x300 with 1 Axes>"
            ],
            "image/png": "[encoded data removed]"
          },
          "metadata": {}
        },
        {
          "output_type": "stream",
          "name": "stdout",
          "text": [
            "The initial AUROC score:0.7170826161790018\n"
          ]
        }
      ]
    },
    {
      "cell_type": "markdown",
      "source": [
        "## Bias and Fairness Evaluation\n"
      ],
      "metadata": {
        "id": "zwNIWAcA5AJb"
      }
    },
    {
      "cell_type": "markdown",
      "source": [
        "Our main metric for fairness evaluation is the DIR - disparate impact ratio, which is defined:\n",
        "\n",
        "DIR = P(R=1|unprivileged)/ P(R=1|privileged)"
      ],
      "metadata": {
        "id": "vjQJh_77HQ2M"
      }
    },
    {
      "cell_type": "code",
      "source": [
        "def one_columns_eval(y_pred, protected):\n",
        "    numerator = ((y_pred == 1) & (protected == 1)).sum() / (protected == 1).sum()\n",
        "    denominator = ((y_pred == 1) & (protected == 0)).sum() / (protected == 0).sum()\n",
        "    return numerator / denominator"
      ],
      "metadata": {
        "id": "io5GkSGxxEIF"
      },
      "execution_count": 76,
      "outputs": []
    },
    {
      "cell_type": "code",
      "source": [
        "def evaluate_fairness(model, dataset: DataSet):\n",
        "    y_pred = model.predict(dataset.data)\n",
        "    return one_columns_eval(y_pred, dataset.protected)"
      ],
      "metadata": {
        "id": "rgGKWgx5xNf5"
      },
      "execution_count": 77,
      "outputs": []
    },
    {
      "cell_type": "code",
      "source": [
        "init_fairness = evaluate_fairness(model, dataset)\n",
        "print(f\"The inital fairness is {init_fairness}\")"
      ],
      "metadata": {
        "colab": {
          "base_uri": "https://localhost:8080/"
        },
        "id": "hJBBQoUdO4-I",
        "outputId": "d7008407-024c-4f0f-8770-16d2fc06c1a1"
      },
      "execution_count": 78,
      "outputs": [
        {
          "output_type": "stream",
          "name": "stdout",
          "text": [
            "The inital fairness is 0.8193619407635111\n"
          ]
        }
      ]
    },
    {
      "cell_type": "markdown",
      "source": [
        "## Bias Mitigating using sequential feature selection\n",
        "Now we can use the first approach for mitigating proxy features."
      ],
      "metadata": {
        "id": "lIfUKWa-PFMo"
      }
    },
    {
      "cell_type": "code",
      "source": [
        "def select_best_features(estimator, X, y, n_features=3):\n",
        "    sfs = SequentialFeatureSelector(estimator, n_features_to_select=n_features)\n",
        "    sfs.fit(X, y)\n",
        "    selected_features = X.columns[sfs.get_support()]\n",
        "    return selected_features"
      ],
      "metadata": {
        "id": "wsWHy_TVxRF9"
      },
      "execution_count": 79,
      "outputs": []
    },
    {
      "cell_type": "code",
      "source": [
        "proxy_features = select_best_features(model,dataset.data,dataset.protected)\n",
        "print(\"The selected proxy features are: \", \", \".join(list(proxy_features)))\n",
        "reduced_dataset = StudentsDS()\n",
        "reduced_dataset.data = reduced_dataset.data.drop(list(proxy_features), axis=1)\n",
        "fair_model, fair_score = prediction(reduced_dataset.data, reduced_dataset.target)\n",
        "fixed_fair = evaluate_fairness(fair_model, reduced_dataset)\n",
        "plot_roc_curve(reduced_dataset.data, reduced_dataset.target, fair_model)\n",
        "print(f\"the last fairness balance is {fixed_fair}, the fixed auroc is now {fair_score}\")\n",
        "print(f\"the fairness was increased by {((fixed_fair - init_fairness) / init_fairness) * 100}%\")"
      ],
      "metadata": {
        "colab": {
          "base_uri": "https://localhost:8080/",
          "height": 402
        },
        "id": "zh_5867SPZPU",
        "outputId": "e1e3456a-94ab-4a4f-d6cc-073e9efbc687"
      },
      "execution_count": 80,
      "outputs": [
        {
          "output_type": "stream",
          "name": "stdout",
          "text": [
            "The selected proxy features are:  age, Walc, Mjob_teacher\n",
            "100%|██████████| 20/20 [00:08<00:00,  2.45trial/s, best loss: -0.7922408801542952]\n"
          ]
        },
        {
          "output_type": "display_data",
          "data": {
            "text/plain": [
              "<Figure size 400x300 with 1 Axes>"
            ],
            "image/png": "[encoded data removed]"
          },
          "metadata": {}
        },
        {
          "output_type": "stream",
          "name": "stdout",
          "text": [
            "the last fairness balance is 0.9833119383825417, the fixed auroc is now 0.7643491444661035\n",
            "the fairness was increased by 20.009471939379573%\n"
          ]
        }
      ]
    },
    {
      "cell_type": "markdown",
      "source": [
        "We can also use the other approach, which used brute force prediction for every threesome of features.\n",
        "The `brute_force_filtering` function explores all possible combinations of three columns from a given dataset. For each combination, it selects the corresponding columns, calculates a score (prediction performance), and stores the score along with the combination. Finally, it returns the columns associated with the best-performing combination (highest score). The goal is to find an optimal set of columns that can serve as a proxy for a protected attribute.\n",
        "\n",
        "\n",
        "\n",
        "\n"
      ],
      "metadata": {
        "id": "MBfySKUQPg6U"
      }
    },
    {
      "cell_type": "code",
      "source": [
        "def brute_force_filtering(self):\n",
        "        graded_combos = []\n",
        "        combinations = list(itertools.combinations(self.columns, 3))\n",
        "        for combo in combinations:\n",
        "            selected_columns = [col for col in self.data.columns if any(col.startswith(prefix + \"_\") or prefix == col\n",
        "                                                                        for prefix in combo)]\n",
        "            potential_proxy = self.data[selected_columns].copy()\n",
        "            _, score = prediction(potential_proxy, self.protected)\n",
        "            graded_combos.append((score, combo))\n",
        "        best_combo = max(graded_combos, key=lambda x: x[0])\n",
        "        return [col for col in self.data.columns if any(col.startswith(prefix + \"_\") or prefix == col\n",
        "                                                        for prefix in best_combo[1])]\n",
        "DataSet.brute_force_filtering = brute_force_filtering"
      ],
      "metadata": {
        "id": "VyA1taw8v880"
      },
      "execution_count": 81,
      "outputs": []
    },
    {
      "cell_type": "markdown",
      "source": [
        "Since the brute force takes a long time (45 minutes), this function was ran in advance."
      ],
      "metadata": {
        "id": "BWyxFseT8XFd"
      }
    },
    {
      "cell_type": "code",
      "source": [
        "\n",
        "# proxy_features = dataset.brute_force_filtering()\n",
        "proxy_features = ('age', 'famsup', 'Dalc')\n",
        "print(\"The selected proxy features are: \", \", \".join(list(proxy_features)))\n",
        "reduced_dataset = StudentsDS()\n",
        "reduced_dataset.data = reduced_dataset.data.drop(list(proxy_features), axis=1)\n",
        "fair_model, fair_score = prediction(reduced_dataset.data, reduced_dataset.target)\n",
        "fixed_fair = evaluate_fairness(fair_model, reduced_dataset)\n",
        "plot_roc_curve(reduced_dataset.data, reduced_dataset.target, fair_model)\n",
        "print(f\"the last fairness balance is {fixed_fair}, the fixed auroc is now {fair_score}\")\n",
        "print(f\"the fairness was increased by {((fixed_fair - init_fairness) / init_fairness) * 100}%\")"
      ],
      "metadata": {
        "colab": {
          "base_uri": "https://localhost:8080/",
          "height": 402
        },
        "id": "GId6Nwj_P7GG",
        "outputId": "eb1e97dc-1f46-4ba0-96ee-33fd31528201"
      },
      "execution_count": 83,
      "outputs": [
        {
          "output_type": "stream",
          "name": "stdout",
          "text": [
            "The selected proxy features are:  age, famsup, Dalc\n",
            "100%|██████████| 20/20 [00:02<00:00,  8.29trial/s, best loss: -0.7719659838513534]\n"
          ]
        },
        {
          "output_type": "display_data",
          "data": {
            "text/plain": [
              "<Figure size 400x300 with 1 Axes>"
            ],
            "image/png": "[encoded data removed]"
          },
          "metadata": {}
        },
        {
          "output_type": "stream",
          "name": "stdout",
          "text": [
            "the last fairness balance is 0.8983677141571877, the fixed auroc is now 0.7560961582700713\n",
            "the fairness was increased by 9.642353331673693%\n"
          ]
        }
      ]
    }
  ]
}